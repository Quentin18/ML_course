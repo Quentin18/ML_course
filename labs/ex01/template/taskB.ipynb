{
 "cells": [
  {
   "cell_type": "code",
   "execution_count": 1,
   "source": [
    "%matplotlib inline\n",
    "import numpy as np\n",
    "import matplotlib.pyplot as plt\n",
    "%load_ext autoreload\n",
    "%autoreload 2"
   ],
   "outputs": [],
   "metadata": {}
  },
  {
   "cell_type": "markdown",
   "source": [
    "Data Generation\n",
    "==="
   ],
   "metadata": {}
  },
  {
   "cell_type": "code",
   "execution_count": 2,
   "source": [
    "np.random.seed(10)\n",
    "p, q = (np.random.rand(i, 2) for i in (4, 5))\n",
    "p_big, q_big = (np.random.rand(i, 80) for i in (100, 120))\n",
    "\n",
    "print(p, \"\\n\\n\", q)"
   ],
   "outputs": [
    {
     "output_type": "stream",
     "name": "stdout",
     "text": [
      "[[0.77132064 0.02075195]\n",
      " [0.63364823 0.74880388]\n",
      " [0.49850701 0.22479665]\n",
      " [0.19806286 0.76053071]] \n",
      "\n",
      " [[0.16911084 0.08833981]\n",
      " [0.68535982 0.95339335]\n",
      " [0.00394827 0.51219226]\n",
      " [0.81262096 0.61252607]\n",
      " [0.72175532 0.29187607]]\n"
     ]
    }
   ],
   "metadata": {}
  },
  {
   "cell_type": "markdown",
   "source": [
    "Solution\n",
    "==="
   ],
   "metadata": {}
  },
  {
   "cell_type": "code",
   "execution_count": 3,
   "source": [
    "def naive(p, q):\n",
    "    \"\"\"\n",
    "    Computes the pairwise distances of all points in P to all points in Q.\n",
    "    \"\"\"\n",
    "    nrows, ncols = p.shape[0], q.shape[0]\n",
    "    d = np.zeros((nrows, ncols))\n",
    "    for i in range(nrows):\n",
    "        for j in range(ncols):\n",
    "            d[i, j] = np.sqrt(np.sum((p[i] - q[j])**2))\n",
    "    return d\n",
    "\n",
    "\n",
    "print(naive(p, q), end='\\n\\n')\n",
    "print(naive(p_big, q_big))"
   ],
   "outputs": [
    {
     "output_type": "stream",
     "name": "stdout",
     "text": [
      "[[0.60599073 0.93659449 0.91124856 0.59321356 0.27561751]\n",
      " [0.80746999 0.21102354 0.67268649 0.22495084 0.46534491]\n",
      " [0.35654215 0.75217493 0.57200052 0.49900068 0.23310825]\n",
      " [0.67281411 0.52407472 0.31520226 0.63212897 0.70277376]]\n",
      "\n",
      "[[3.5463562  3.565697   3.49523531 ... 3.45806434 3.45665815 3.81388442]\n",
      " [4.00188263 3.53214057 3.27800283 ... 3.71310672 3.95344582 3.59536741]\n",
      " [4.17522292 3.56879999 3.41938894 ... 4.02732215 3.92961253 3.58403141]\n",
      " ...\n",
      " [3.62521939 3.45146476 3.80998935 ... 4.28665811 3.94376699 3.57750727]\n",
      " [3.74235978 3.66972067 3.58013781 ... 3.84275737 3.61753849 3.699406  ]\n",
      " [3.94677398 3.3584521  3.90542048 ... 3.52062854 4.00497389 3.44475958]]\n"
     ]
    }
   ],
   "metadata": {
    "collapsed": true
   }
  },
  {
   "cell_type": "markdown",
   "source": [
    "### Use matching indices\n",
    "\n",
    "Instead of iterating through indices, one can use them directly to parallelize the operations with Numpy."
   ],
   "metadata": {}
  },
  {
   "cell_type": "code",
   "execution_count": 4,
   "source": [
    "rows, cols = np.indices((p.shape[0], q.shape[0]))\n",
    "print(rows, end='\\n\\n')\n",
    "print(cols)"
   ],
   "outputs": [
    {
     "output_type": "stream",
     "name": "stdout",
     "text": [
      "[[0 0 0 0 0]\n",
      " [1 1 1 1 1]\n",
      " [2 2 2 2 2]\n",
      " [3 3 3 3 3]]\n",
      "\n",
      "[[0 1 2 3 4]\n",
      " [0 1 2 3 4]\n",
      " [0 1 2 3 4]\n",
      " [0 1 2 3 4]]\n"
     ]
    }
   ],
   "metadata": {}
  },
  {
   "cell_type": "code",
   "execution_count": 5,
   "source": [
    "print(p[rows.ravel()], end='\\n\\n')\n",
    "print(q[cols.ravel()])"
   ],
   "outputs": [
    {
     "output_type": "stream",
     "name": "stdout",
     "text": [
      "[[0.77132064 0.02075195]\n",
      " [0.77132064 0.02075195]\n",
      " [0.77132064 0.02075195]\n",
      " [0.77132064 0.02075195]\n",
      " [0.77132064 0.02075195]\n",
      " [0.63364823 0.74880388]\n",
      " [0.63364823 0.74880388]\n",
      " [0.63364823 0.74880388]\n",
      " [0.63364823 0.74880388]\n",
      " [0.63364823 0.74880388]\n",
      " [0.49850701 0.22479665]\n",
      " [0.49850701 0.22479665]\n",
      " [0.49850701 0.22479665]\n",
      " [0.49850701 0.22479665]\n",
      " [0.49850701 0.22479665]\n",
      " [0.19806286 0.76053071]\n",
      " [0.19806286 0.76053071]\n",
      " [0.19806286 0.76053071]\n",
      " [0.19806286 0.76053071]\n",
      " [0.19806286 0.76053071]]\n",
      "\n",
      "[[0.16911084 0.08833981]\n",
      " [0.68535982 0.95339335]\n",
      " [0.00394827 0.51219226]\n",
      " [0.81262096 0.61252607]\n",
      " [0.72175532 0.29187607]\n",
      " [0.16911084 0.08833981]\n",
      " [0.68535982 0.95339335]\n",
      " [0.00394827 0.51219226]\n",
      " [0.81262096 0.61252607]\n",
      " [0.72175532 0.29187607]\n",
      " [0.16911084 0.08833981]\n",
      " [0.68535982 0.95339335]\n",
      " [0.00394827 0.51219226]\n",
      " [0.81262096 0.61252607]\n",
      " [0.72175532 0.29187607]\n",
      " [0.16911084 0.08833981]\n",
      " [0.68535982 0.95339335]\n",
      " [0.00394827 0.51219226]\n",
      " [0.81262096 0.61252607]\n",
      " [0.72175532 0.29187607]]\n"
     ]
    }
   ],
   "metadata": {}
  },
  {
   "cell_type": "code",
   "execution_count": 6,
   "source": [
    "def with_indices(p, q):\n",
    "    \"\"\"\n",
    "    Computes the pairwise distances of all points in P to all points in Q.\n",
    "    \"\"\"\n",
    "    nrows, ncols = p.shape[0], q.shape[0]\n",
    "    rows, cols = np.indices((nrows, ncols))\n",
    "    return np.resize(\n",
    "        np.sqrt(np.sum((p[rows.ravel()] - q[cols.ravel()])**2, axis=1)),\n",
    "        (nrows, ncols)\n",
    "    )\n",
    "\n",
    "\n",
    "print(with_indices(p, q), end='\\n\\n')\n",
    "print(with_indices(p_big, q_big))"
   ],
   "outputs": [
    {
     "output_type": "stream",
     "name": "stdout",
     "text": [
      "[[0.60599073 0.93659449 0.91124856 0.59321356 0.27561751]\n",
      " [0.80746999 0.21102354 0.67268649 0.22495084 0.46534491]\n",
      " [0.35654215 0.75217493 0.57200052 0.49900068 0.23310825]\n",
      " [0.67281411 0.52407472 0.31520226 0.63212897 0.70277376]]\n",
      "\n",
      "[[3.5463562  3.565697   3.49523531 ... 3.45806434 3.45665815 3.81388442]\n",
      " [4.00188263 3.53214057 3.27800283 ... 3.71310672 3.95344582 3.59536741]\n",
      " [4.17522292 3.56879999 3.41938894 ... 4.02732215 3.92961253 3.58403141]\n",
      " ...\n",
      " [3.62521939 3.45146476 3.80998935 ... 4.28665811 3.94376699 3.57750727]\n",
      " [3.74235978 3.66972067 3.58013781 ... 3.84275737 3.61753849 3.699406  ]\n",
      " [3.94677398 3.3584521  3.90542048 ... 3.52062854 4.00497389 3.44475958]]\n"
     ]
    }
   ],
   "metadata": {
    "collapsed": true
   }
  },
  {
   "cell_type": "markdown",
   "source": [
    "### Use a library\n",
    "\n",
    "`scipy` is the equivalent of matlab toolboxes and have a lot to offer. Actually the pairwise computation is part of the library through the `spatial` module."
   ],
   "metadata": {}
  },
  {
   "cell_type": "code",
   "execution_count": 7,
   "source": [
    "from scipy.spatial.distance import cdist\n",
    "\n",
    "def scipy_version(p, q):\n",
    "    return cdist(p, q)\n",
    "\n",
    "\n",
    "print(scipy_version(p, q), end='\\n\\n')\n",
    "print(scipy_version(p_big, q_big))"
   ],
   "outputs": [
    {
     "output_type": "stream",
     "name": "stdout",
     "text": [
      "[[0.60599073 0.93659449 0.91124856 0.59321356 0.27561751]\n",
      " [0.80746999 0.21102354 0.67268649 0.22495084 0.46534491]\n",
      " [0.35654215 0.75217493 0.57200052 0.49900068 0.23310825]\n",
      " [0.67281411 0.52407472 0.31520226 0.63212897 0.70277376]]\n",
      "\n",
      "[[3.5463562  3.565697   3.49523531 ... 3.45806434 3.45665815 3.81388442]\n",
      " [4.00188263 3.53214057 3.27800283 ... 3.71310672 3.95344582 3.59536741]\n",
      " [4.17522292 3.56879999 3.41938894 ... 4.02732215 3.92961253 3.58403141]\n",
      " ...\n",
      " [3.62521939 3.45146476 3.80998935 ... 4.28665811 3.94376699 3.57750727]\n",
      " [3.74235978 3.66972067 3.58013781 ... 3.84275737 3.61753849 3.699406  ]\n",
      " [3.94677398 3.3584521  3.90542048 ... 3.52062854 4.00497389 3.44475958]]\n"
     ]
    }
   ],
   "metadata": {}
  },
  {
   "cell_type": "markdown",
   "source": [
    "### Numpy Magic"
   ],
   "metadata": {}
  },
  {
   "cell_type": "code",
   "execution_count": 8,
   "source": [
    "def tensor_broadcasting(p, q):\n",
    "    return np.sqrt(np.sum((p[:,np.newaxis,:]-q[np.newaxis,:,:])**2, axis=2))\n",
    "\n",
    "\n",
    "print(tensor_broadcasting(p, q), end='\\n\\n')\n",
    "print(tensor_broadcasting(p_big, q_big))"
   ],
   "outputs": [
    {
     "output_type": "stream",
     "name": "stdout",
     "text": [
      "[[0.60599073 0.93659449 0.91124856 0.59321356 0.27561751]\n",
      " [0.80746999 0.21102354 0.67268649 0.22495084 0.46534491]\n",
      " [0.35654215 0.75217493 0.57200052 0.49900068 0.23310825]\n",
      " [0.67281411 0.52407472 0.31520226 0.63212897 0.70277376]]\n",
      "\n",
      "[[3.5463562  3.565697   3.49523531 ... 3.45806434 3.45665815 3.81388442]\n",
      " [4.00188263 3.53214057 3.27800283 ... 3.71310672 3.95344582 3.59536741]\n",
      " [4.17522292 3.56879999 3.41938894 ... 4.02732215 3.92961253 3.58403141]\n",
      " ...\n",
      " [3.62521939 3.45146476 3.80998935 ... 4.28665811 3.94376699 3.57750727]\n",
      " [3.74235978 3.66972067 3.58013781 ... 3.84275737 3.61753849 3.699406  ]\n",
      " [3.94677398 3.3584521  3.90542048 ... 3.52062854 4.00497389 3.44475958]]\n"
     ]
    }
   ],
   "metadata": {}
  },
  {
   "cell_type": "markdown",
   "source": [
    "# Compare methods"
   ],
   "metadata": {}
  },
  {
   "cell_type": "code",
   "execution_count": 9,
   "source": [
    "methods = [naive, with_indices, scipy_version, tensor_broadcasting]\n",
    "timers = []\n",
    "for f in methods:\n",
    "    r = %timeit -o f(p_big, q_big)\n",
    "    timers.append(r)"
   ],
   "outputs": [
    {
     "output_type": "stream",
     "name": "stdout",
     "text": [
      "64.1 ms ± 1.03 ms per loop (mean ± std. dev. of 7 runs, 10 loops each)\n",
      "4.38 ms ± 158 µs per loop (mean ± std. dev. of 7 runs, 100 loops each)\n",
      "392 µs ± 1.94 µs per loop (mean ± std. dev. of 7 runs, 1000 loops each)\n",
      "1.5 ms ± 50.9 µs per loop (mean ± std. dev. of 7 runs, 1000 loops each)\n"
     ]
    }
   ],
   "metadata": {}
  },
  {
   "cell_type": "code",
   "execution_count": 10,
   "source": [
    "plt.figure(figsize=(10,6))\n",
    "plt.bar(np.arange(len(methods)), [r.best*1000 for r in timers], log=False)  # Set log to True for logarithmic scale\n",
    "plt.xticks(np.arange(len(methods))+0.2, [f.__name__ for f in methods], rotation=30)\n",
    "plt.xlabel('Method')\n",
    "plt.ylabel('Time (ms)')\n",
    "plt.show()"
   ],
   "outputs": [
    {
     "output_type": "display_data",
     "data": {
      "image/png": "[encoded data removed]",
      "text/plain": [
       "<Figure size 720x432 with 1 Axes>"
      ]
     },
     "metadata": {
      "needs_background": "light"
     }
    }
   ],
   "metadata": {}
  }
 ],
 "metadata": {
  "kernelspec": {
   "name": "python3",
   "display_name": "Python 3.8.10 64-bit"
  },
  "language_info": {
   "codemirror_mode": {
    "name": "ipython",
    "version": 3
   },
   "file_extension": ".py",
   "mimetype": "text/x-python",
   "name": "python",
   "nbconvert_exporter": "python",
   "pygments_lexer": "ipython3",
   "version": "3.8.10"
  },
  "interpreter": {
   "hash": "916dbcbb3f70747c44a77c7bcd40155683ae19c65e1c03b4aa3499c5328201f1"
  }
 },
 "nbformat": 4,
 "nbformat_minor": 1
}