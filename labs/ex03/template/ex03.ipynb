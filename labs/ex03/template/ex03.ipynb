{
 "cells": [
  {
   "cell_type": "code",
   "execution_count": 1,
   "source": [
    "# Useful starting lines\n",
    "%matplotlib inline\n",
    "import numpy as np\n",
    "import matplotlib.pyplot as plt\n",
    "%load_ext autoreload\n",
    "%autoreload 2"
   ],
   "outputs": [],
   "metadata": {
    "collapsed": true
   }
  },
  {
   "cell_type": "code",
   "execution_count": null,
   "source": [
    "import sys\n",
    "sys.path.append('../ex02/template')\n",
    "\n",
    "from costs import *"
   ],
   "outputs": [],
   "metadata": {}
  },
  {
   "cell_type": "markdown",
   "source": [
    "# 1 Least squares and linear basis functions models\n",
    "## 1.1 Least squares"
   ],
   "metadata": {}
  },
  {
   "cell_type": "code",
   "execution_count": 2,
   "source": [
    "def least_squares(y, tx):\n",
    "    \"\"\"calculate the least squares solution.\"\"\"\n",
    "    N = len(y)\n",
    "    w_star = np.linalg.solve(tx.T @ tx, tx.T @ y)\n",
    "    e = y - (tx @ w_star)\n",
    "    loss_star = (e.T @ e) / (2 * N)\n",
    "    return loss_star, w_star"
   ],
   "outputs": [],
   "metadata": {
    "collapsed": true
   }
  },
  {
   "cell_type": "markdown",
   "source": [
    "### Load the data\n",
    "Here we will reuse the dataset `height_weight_genders.csv` from previous exercise section to check the correctness of your implementation. Please compare it with your previous result."
   ],
   "metadata": {}
  },
  {
   "cell_type": "code",
   "execution_count": 3,
   "source": [
    "from grid_search import *\n",
    "from helpers import *\n",
    "\n",
    "\n",
    "def test_your_least_squares(num_intervals=100):\n",
    "    height, weight, gender = load_data_from_ex02(sub_sample=False, add_outlier=False)\n",
    "    x, mean_x, std_x = standardize(height)\n",
    "    y, tx = build_model_data(x, weight)\n",
    "\n",
    "    # Least squares\n",
    "    loss_star_ls, w_star_ls = least_squares(y, tx)\n",
    "    w0_star_ls, w1_star_ls = w_star_ls\n",
    "\n",
    "    # Show least squares results\n",
    "    print(f'Least Squares: loss*={loss_star_ls}, w0*={w0_star_ls}, w1*={w1_star_ls}')\n",
    "\n",
    "    # Grid search\n",
    "    # Generate the grid of parameters to be swept\n",
    "    grid_w0, grid_w1 = generate_w(num_intervals=num_intervals)\n",
    "\n",
    "    # Start the grid search\n",
    "    grid_losses = grid_search(y, tx, grid_w0, grid_w1)\n",
    "\n",
    "    # Select the best combinaison\n",
    "    loss_star_gs, w0_star_gs, w1_star_gs = get_best_parameters(\n",
    "        grid_w0, grid_w1, grid_losses)\n",
    "\n",
    "    # Show grid search results\n",
    "    print(f'Grid Search: loss*={loss_star_gs}, w0*={w0_star_gs}, w1*={w1_star_gs}')"
   ],
   "outputs": [],
   "metadata": {}
  },
  {
   "cell_type": "markdown",
   "source": [
    "Test it here"
   ],
   "metadata": {}
  },
  {
   "cell_type": "code",
   "execution_count": 4,
   "source": [
    "test_your_least_squares()"
   ],
   "outputs": [
    {
     "output_type": "stream",
     "name": "stdout",
     "text": [
      "Least Squares: loss*=15.385887868829398, w0*=73.29392200210518, w1*=13.479712434989066\n",
      "Grid Search: loss*=15.558703368609525, w0*=72.72727272727272, w1*=13.636363636363626\n"
     ]
    }
   ],
   "metadata": {}
  },
  {
   "cell_type": "markdown",
   "source": [
    "## 1.2 Least squares with a linear basis function model\n",
    "Start from this section, we will use the dataset `dataEx3.csv`.\n",
    "\n",
    "### Implement polynomial basis functions"
   ],
   "metadata": {}
  },
  {
   "cell_type": "code",
   "execution_count": 5,
   "source": [
    "# load dataset\n",
    "x, y = load_data()\n",
    "print(\"shape of x {}\".format(x.shape))\n",
    "print(\"shape of y {}\".format(y.shape))"
   ],
   "outputs": [
    {
     "output_type": "stream",
     "name": "stdout",
     "text": [
      "shape of x (50,)\n",
      "shape of y (50,)\n"
     ]
    }
   ],
   "metadata": {
    "scrolled": true
   }
  },
  {
   "cell_type": "code",
   "execution_count": 6,
   "source": [
    "def build_poly(x, degree):\n",
    "    \"\"\"polynomial basis functions for input data x, for j=0 up to j=degree.\"\"\"\n",
    "    phi_n = lambda x_n: [x_n**d for d in range(degree + 1)]\n",
    "    return np.array(list(map(phi_n, x)))"
   ],
   "outputs": [],
   "metadata": {
    "collapsed": true
   }
  },
  {
   "cell_type": "markdown",
   "source": [
    "Let us play with polynomial regression. Note that we will use your implemented function `compute_mse`. Please copy and paste your implementation from exercise02."
   ],
   "metadata": {}
  },
  {
   "cell_type": "code",
   "execution_count": 7,
   "source": [
    "def compute_mse(y, tx, w):\n",
    "    \"\"\"Calculate the loss using mse.\"\"\"\n",
    "    N = len(y)\n",
    "    e = y - (tx @ w)\n",
    "    return (e @ e) / (2 * N)"
   ],
   "outputs": [],
   "metadata": {}
  },
  {
   "cell_type": "code",
   "execution_count": 8,
   "source": [
    "from plots import *\n",
    "\n",
    "\n",
    "def polynomial_regression():\n",
    "    \"\"\"Constructing the polynomial basis function expansion of the data,\n",
    "       and then running least squares regression.\"\"\"\n",
    "    # define parameters\n",
    "    degrees = [1, 3, 7, 12]\n",
    "\n",
    "    # define the structure of the figure\n",
    "    num_row = 2\n",
    "    num_col = 2\n",
    "    f, axs = plt.subplots(num_row, num_col)\n",
    "\n",
    "    for ind, degree in enumerate(degrees):\n",
    "        # form the data to do polynomial regression\n",
    "        phi = build_poly(x, degree)\n",
    "        # least square and calculate RMSE\n",
    "        mse, weights = least_squares(y, phi)\n",
    "        rmse = np.sqrt(2 * mse)\n",
    "        print(\"Processing {i}th experiment, degree={d}, rmse={loss}\".format(\n",
    "              i=ind + 1, d=degree, loss=rmse))\n",
    "        # plot fit\n",
    "        plot_fitted_curve(\n",
    "            y, x, weights, degree, axs[ind // num_col][ind % num_col])\n",
    "    plt.tight_layout()\n",
    "    # plt.savefig(\"visualize_polynomial_regression\")\n",
    "    plt.show()"
   ],
   "outputs": [],
   "metadata": {
    "collapsed": true
   }
  },
  {
   "cell_type": "markdown",
   "source": [
    "Run polynomial regression"
   ],
   "metadata": {}
  },
  {
   "cell_type": "code",
   "execution_count": 9,
   "source": [
    "polynomial_regression()"
   ],
   "outputs": [
    {
     "output_type": "stream",
     "name": "stdout",
     "text": [
      "Processing 1th experiment, degree=1, rmse=0.4718760796342188\n",
      "Processing 2th experiment, degree=3, rmse=0.258582776677375\n",
      "Processing 3th experiment, degree=7, rmse=0.24965870360907347\n",
      "Processing 4th experiment, degree=12, rmse=0.24337224835787005\n"
     ]
    },
    {
     "output_type": "display_data",
     "data": {
      "image/png": "[encoded data removed]",
      "text/plain": [
       "<Figure size 432x288 with 4 Axes>"
      ]
     },
     "metadata": {
      "needs_background": "light"
     }
    }
   ],
   "metadata": {}
  },
  {
   "cell_type": "markdown",
   "source": [
    "# 2 Evaluating model predication performance\n",
    "\n",
    "\n",
    "Let us show the train and test splits for various polynomial degrees. First of all, please fill in the function `split_data()`"
   ],
   "metadata": {}
  },
  {
   "cell_type": "code",
   "execution_count": 45,
   "source": [
    "def split_data(x, y, ratio, seed=1):\n",
    "    \"\"\"\n",
    "    split the dataset based on the split ratio. If ratio is 0.8 \n",
    "    you will have 80% of your data set dedicated to training \n",
    "    and the rest dedicated to testing\n",
    "    \"\"\"\n",
    "    # set seed\n",
    "    np.random.seed(seed)\n",
    "    # split the data based on the given ratio\n",
    "    N = x.shape[0]\n",
    "    split_idx = int(N * ratio)\n",
    "    indices = np.random.permutation(N)\n",
    "    training_idx, test_idx = indices[:split_idx], indices[split_idx:]\n",
    "    training_x, test_x = x[training_idx], x[test_idx]\n",
    "    training_y, test_y = y[training_idx], y[test_idx]\n",
    "    return training_x, test_x, training_y, test_y"
   ],
   "outputs": [],
   "metadata": {
    "collapsed": true
   }
  },
  {
   "cell_type": "markdown",
   "source": [
    "Then, test your `split_data` function below."
   ],
   "metadata": {}
  },
  {
   "cell_type": "code",
   "execution_count": 11,
   "source": [
    "def train_test_split_demo(x, y, degree, ratio, seed):\n",
    "    \"\"\"polynomial regression with different split ratios and different degrees.\"\"\"\n",
    "    # split the data, and return train and test data\n",
    "    x_tr, x_te, y_tr, y_te = split_data(x, y, ratio, seed)\n",
    "    # form train and test data with polynomial basis function\n",
    "    phi_tr = build_poly(x_tr, degree)\n",
    "    phi_te = build_poly(x_te, degree)\n",
    "    # calculate weight through least square\n",
    "    mse_tr, weights_tr = least_squares(y_tr, phi_tr)\n",
    "    mse_te, weights_te = least_squares(y_te, phi_te)\n",
    "    # calculate RMSE for train and test data,\n",
    "    # and store them in rmse_tr and rmse_te respectively\n",
    "    rmse_tr = np.sqrt(2 * mse_tr)\n",
    "    rmse_te = np.sqrt(2 * mse_te)\n",
    "    print(\"proportion={p}, degree={d}, Training RMSE={tr:.3f}, Testing RMSE={te:.3f}\".format(\n",
    "          p=ratio, d=degree, tr=rmse_tr, te=rmse_te))\n"
   ],
   "outputs": [],
   "metadata": {
    "collapsed": true
   }
  },
  {
   "cell_type": "code",
   "execution_count": 12,
   "source": [
    "seed = 6\n",
    "degrees = [1, 3, 7, 12]\n",
    "split_ratios = [0.9, 0.5, 0.1]\n",
    "\n",
    "for split_ratio in split_ratios:\n",
    "    for degree in degrees:\n",
    "        train_test_split_demo(x, y, degree, split_ratio, seed)"
   ],
   "outputs": [
    {
     "output_type": "stream",
     "name": "stdout",
     "text": [
      "proportion=0.9, degree=1, Training RMSE=0.494, Testing RMSE=0.157\n",
      "proportion=0.9, degree=3, Training RMSE=0.264, Testing RMSE=0.086\n",
      "proportion=0.9, degree=7, Training RMSE=0.254, Testing RMSE=0.000\n",
      "proportion=0.9, degree=12, Training RMSE=0.242, Testing RMSE=0.000\n",
      "proportion=0.5, degree=1, Training RMSE=0.455, Testing RMSE=0.450\n",
      "proportion=0.5, degree=3, Training RMSE=0.239, Testing RMSE=0.255\n",
      "proportion=0.5, degree=7, Training RMSE=0.232, Testing RMSE=0.247\n",
      "proportion=0.5, degree=12, Training RMSE=0.205, Testing RMSE=0.228\n",
      "proportion=0.1, degree=1, Training RMSE=0.428, Testing RMSE=0.468\n",
      "proportion=0.1, degree=3, Training RMSE=0.085, Testing RMSE=0.251\n",
      "proportion=0.1, degree=7, Training RMSE=0.000, Testing RMSE=0.247\n",
      "proportion=0.1, degree=12, Training RMSE=0.000, Testing RMSE=0.234\n"
     ]
    }
   ],
   "metadata": {
    "collapsed": true
   }
  },
  {
   "cell_type": "markdown",
   "source": [
    "# 3 Ridge Regression\n",
    "Please fill in the function below."
   ],
   "metadata": {}
  },
  {
   "cell_type": "code",
   "execution_count": 25,
   "source": [
    "def ridge_regression(y, tx, lambda_):\n",
    "    \"\"\"implement ridge regression.\"\"\"\n",
    "    N, M = tx.shape\n",
    "    w_star = np.linalg.solve((tx.T @ tx) + lambda_ * np.eye(M), tx.T @ y)\n",
    "    e = y - (tx @ w_star)\n",
    "    loss_star = (e.T @ e) / (2 * N)\n",
    "    return loss_star, w_star"
   ],
   "outputs": [],
   "metadata": {
    "collapsed": true
   }
  },
  {
   "cell_type": "code",
   "execution_count": 26,
   "source": [
    "from helpers import *\n",
    "\n",
    "\n",
    "def test_ridge_regression(lambda_=0):\n",
    "    height, weight, gender = load_data_from_ex02(sub_sample=False, add_outlier=False)\n",
    "    x, mean_x, std_x = standardize(height)\n",
    "    y, tx = build_model_data(x, weight)\n",
    "\n",
    "    # Ridge regression\n",
    "    loss_star_ls, w_star_ls = ridge_regression(y, tx, lambda_)\n",
    "    w0_star_ls, w1_star_ls = w_star_ls\n",
    "\n",
    "    # Show ridge regression results\n",
    "    print(f'Ridge Regression: loss*={loss_star_ls}, w0*={w0_star_ls}, w1*={w1_star_ls}')\n",
    "\n",
    "    # Least squares\n",
    "    loss_star_ls, w_star_ls = least_squares(y, tx)\n",
    "    w0_star_ls, w1_star_ls = w_star_ls\n",
    "\n",
    "    # Show least squares results\n",
    "    print(f'Least Squares: loss*={loss_star_ls}, w0*={w0_star_ls}, w1*={w1_star_ls}')"
   ],
   "outputs": [],
   "metadata": {}
  },
  {
   "cell_type": "code",
   "execution_count": 40,
   "source": [
    "test_ridge_regression(0)"
   ],
   "outputs": [
    {
     "output_type": "stream",
     "name": "stdout",
     "text": [
      "Ridge Regression: loss*=15.385887868829398, w0*=73.29392200210518, w1*=13.479712434989066\n",
      "Least Squares: loss*=15.385887868829398, w0*=73.29392200210518, w1*=13.479712434989066\n"
     ]
    }
   ],
   "metadata": {}
  },
  {
   "cell_type": "code",
   "execution_count": 41,
   "source": [
    "def ridge_regression_demo(x, y, degree, ratio, seed):\n",
    "    \"\"\"ridge regression demo.\"\"\"\n",
    "    # define parameter\n",
    "    lambdas = np.logspace(-5, 0, 15)\n",
    "    # split the data, and return train and test data\n",
    "    x_tr, x_te, y_tr, y_te = split_data(x, y, ratio, seed)\n",
    "    # form train and test data with polynomial basis function\n",
    "    phi_tr = build_poly(x_tr, degree)\n",
    "    phi_te = build_poly(x_te, degree)\n",
    "\n",
    "    rmse_tr = []\n",
    "    rmse_te = []\n",
    "    for ind, lambda_ in enumerate(lambdas):\n",
    "        # ridge regression with a given lambda\n",
    "        mse_tr, weights_tr = ridge_regression(y_tr, phi_tr, lambda_)\n",
    "        mse_te, weights_te = ridge_regression(y_te, phi_te, lambda_)\n",
    "        # calculate RMSE for train and test data,\n",
    "        # and store them in rmse_tr and rmse_te respectively\n",
    "        rmse_tr.append(np.sqrt(2 * mse_tr))\n",
    "        rmse_te.append(np.sqrt(2 * mse_te))\n",
    "        print(\"proportion={p}, degree={d}, lambda={l:.3f}, Training RMSE={tr:.3f}, Testing RMSE={te:.3f}\".format(\n",
    "               p=ratio, d=degree, l=lambda_, tr=rmse_tr[ind], te=rmse_te[ind]))\n",
    "\n",
    "    # Plot the obtained results\n",
    "    plot_train_test(rmse_tr, rmse_te, lambdas, degree)"
   ],
   "outputs": [],
   "metadata": {
    "collapsed": true
   }
  },
  {
   "cell_type": "code",
   "execution_count": 46,
   "source": [
    "seed = 56\n",
    "degree = 7\n",
    "split_ratio = 0.5\n",
    "ridge_regression_demo(x, y, degree, split_ratio, seed)"
   ],
   "outputs": [
    {
     "output_type": "stream",
     "name": "stdout",
     "text": [
      "proportion=0.5, degree=7, lambda=0.000, Training RMSE=0.227, Testing RMSE=0.225\n",
      "proportion=0.5, degree=7, lambda=0.000, Training RMSE=0.227, Testing RMSE=0.225\n",
      "proportion=0.5, degree=7, lambda=0.000, Training RMSE=0.227, Testing RMSE=0.225\n",
      "proportion=0.5, degree=7, lambda=0.000, Training RMSE=0.227, Testing RMSE=0.225\n",
      "proportion=0.5, degree=7, lambda=0.000, Training RMSE=0.227, Testing RMSE=0.225\n",
      "proportion=0.5, degree=7, lambda=0.001, Training RMSE=0.227, Testing RMSE=0.225\n",
      "proportion=0.5, degree=7, lambda=0.001, Training RMSE=0.227, Testing RMSE=0.226\n",
      "proportion=0.5, degree=7, lambda=0.003, Training RMSE=0.227, Testing RMSE=0.226\n",
      "proportion=0.5, degree=7, lambda=0.007, Training RMSE=0.227, Testing RMSE=0.227\n",
      "proportion=0.5, degree=7, lambda=0.016, Training RMSE=0.228, Testing RMSE=0.228\n",
      "proportion=0.5, degree=7, lambda=0.037, Training RMSE=0.229, Testing RMSE=0.228\n",
      "proportion=0.5, degree=7, lambda=0.085, Training RMSE=0.229, Testing RMSE=0.228\n",
      "proportion=0.5, degree=7, lambda=0.193, Training RMSE=0.231, Testing RMSE=0.228\n",
      "proportion=0.5, degree=7, lambda=0.439, Training RMSE=0.233, Testing RMSE=0.229\n",
      "proportion=0.5, degree=7, lambda=1.000, Training RMSE=0.238, Testing RMSE=0.230\n"
     ]
    },
    {
     "output_type": "display_data",
     "data": {
      "image/png": "[encoded data removed]",
      "text/plain": [
       "<Figure size 432x288 with 1 Axes>"
      ]
     },
     "metadata": {
      "needs_background": "light"
     }
    }
   ],
   "metadata": {
    "collapsed": true
   }
  }
 ],
 "metadata": {
  "anaconda-cloud": {},
  "kernelspec": {
   "name": "python3",
   "display_name": "Python 3.8.10 64-bit ('venv': venv)"
  },
  "language_info": {
   "codemirror_mode": {
    "name": "ipython",
    "version": 3
   },
   "file_extension": ".py",
   "mimetype": "text/x-python",
   "name": "python",
   "nbconvert_exporter": "python",
   "pygments_lexer": "ipython3",
   "version": "3.8.10"
  },
  "interpreter": {
   "hash": "a2efd0176cfbfd4e922ca9495a625177983d2ef64084d4e00260615a17213260"
  }
 },
 "nbformat": 4,
 "nbformat_minor": 1
}