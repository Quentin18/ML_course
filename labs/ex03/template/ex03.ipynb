{
 "cells": [
  {
   "cell_type": "markdown",
   "metadata": {},
   "source": [
    "### Import python files from another directory\n",
    "In order to reuse code written in .py files you need to import them. <br/>\n",
    "If they are from a distant folder, rather than copy-paste it into the current folder, you can write:"
   ]
  },
  {
   "cell_type": "code",
   "execution_count": 15,
   "metadata": {},
   "outputs": [],
   "source": [
    "import sys\n",
    "sys.path.append(\"../../ex02/template\") # This goes up twice in the directories tree (hence in labs)\n",
    "                                       # then goes down to ex02/template where your files from lab 2 are."
   ]
  },
  {
   "cell_type": "markdown",
   "metadata": {},
   "source": [
    "you can now import your desired files, for example, we can import grid_search.py with:"
   ]
  },
  {
   "cell_type": "code",
   "execution_count": 16,
   "metadata": {},
   "outputs": [
    {
     "name": "stdout",
     "output_type": "stream",
     "text": [
      "[-100.  -25.   50.  125.  200.] [-150.  -75.    0.   75.  150.]\n"
     ]
    }
   ],
   "source": [
    "import grid_search        # You then need to call your functions using grid_search.function_name()\n",
    "import grid_search as gs  # You then need to call your functions using gs.function_name()\n",
    "from grid_search import * # You can call any functions of the file with function_name()\n",
    "\n",
    "# Let's try to call generate_w from grid_search.py:\n",
    "w0, w1 = generate_w(5)\n",
    "print(w0, w1)"
   ]
  },
  {
   "cell_type": "markdown",
   "metadata": {},
   "source": [
    "As you can see we are now able to call functions from the grid_search.py file."
   ]
  },
  {
   "cell_type": "code",
   "execution_count": 17,
   "metadata": {
    "collapsed": true
   },
   "outputs": [
    {
     "name": "stdout",
     "output_type": "stream",
     "text": [
      "The autoreload extension is already loaded. To reload it, use:\n",
      "  %reload_ext autoreload\n"
     ]
    }
   ],
   "source": [
    "# Useful starting lines\n",
    "%matplotlib inline\n",
    "import numpy as np\n",
    "import matplotlib.pyplot as plt\n",
    "%load_ext autoreload\n",
    "%autoreload 2"
   ]
  },
  {
   "cell_type": "markdown",
   "metadata": {},
   "source": [
    "# 1 Least squares and linear basis functions models\n",
    "## 1.1 Least squares"
   ]
  },
  {
   "cell_type": "code",
   "execution_count": 18,
   "metadata": {
    "collapsed": true
   },
   "outputs": [],
   "source": [
    "def least_squares(y, tx):\n",
    "    \"\"\"calculate the least squares solution.\"\"\"\n",
    "    n = len(y)\n",
    "    w_star = np.linalg.solve(tx.T @ tx, tx.T @ y)\n",
    "    e = y - (tx @ w_star)\n",
    "    loss_star = (e.T @ e) / (2 * n)\n",
    "    return loss_star, w_star"
   ]
  },
  {
   "cell_type": "markdown",
   "metadata": {},
   "source": [
    "### Load the data\n",
    "Here we will reuse the dataset `height_weight_genders.csv` from previous exercise section to check the correctness of your implementation. Please compare it with your previous result."
   ]
  },
  {
   "cell_type": "code",
   "execution_count": 19,
   "metadata": {},
   "outputs": [],
   "source": [
    "from grid_search import *\n",
    "from helpers import *\n",
    "\n",
    "\n",
    "def test_your_least_squares(num_intervals=100):\n",
    "    height, weight, gender = load_data_from_ex02(sub_sample=False, add_outlier=False)\n",
    "    x, mean_x, std_x = standardize(height)\n",
    "    y, tx = build_model_data(x, weight)\n",
    "\n",
    "    # Least squares\n",
    "    loss_star_ls, w_star_ls = least_squares(y, tx)\n",
    "    w0_star_ls, w1_star_ls = w_star_ls\n",
    "\n",
    "    # Show least squares results\n",
    "    print(f'Least Squares: loss*={loss_star_ls}, w0*={w0_star_ls}, w1*={w1_star_ls}')\n",
    "\n",
    "    # Grid search\n",
    "    # Generate the grid of parameters to be swept\n",
    "    grid_w0, grid_w1 = generate_w(num_intervals=num_intervals)\n",
    "\n",
    "    # Start the grid search\n",
    "    grid_losses = grid_search(y, tx, grid_w0, grid_w1)\n",
    "\n",
    "    # Select the best combinaison\n",
    "    loss_star_gs, w0_star_gs, w1_star_gs = get_best_parameters(\n",
    "        grid_w0, grid_w1, grid_losses)\n",
    "\n",
    "    # Show grid search results\n",
    "    print(f'Grid Search: loss*={loss_star_gs}, w0*={w0_star_gs}, w1*={w1_star_gs}')"
   ]
  },
  {
   "cell_type": "markdown",
   "metadata": {},
   "source": [
    "Test it here"
   ]
  },
  {
   "cell_type": "code",
   "execution_count": 20,
   "metadata": {},
   "outputs": [
    {
     "name": "stdout",
     "output_type": "stream",
     "text": [
      "Least Squares: loss*=15.385887868829395, w0*=73.29392200210518, w1*=13.479712434989061\n",
      "Grid Search: loss*=15.558703368609525, w0*=72.72727272727272, w1*=13.636363636363626\n"
     ]
    }
   ],
   "source": [
    "test_your_least_squares()"
   ]
  },
  {
   "cell_type": "markdown",
   "metadata": {},
   "source": [
    "## 1.2 Least squares with a linear basis function model\n",
    "Start from this section, we will use the dataset `dataEx3.csv`.\n",
    "\n",
    "### Implement polynomial basis functions"
   ]
  },
  {
   "cell_type": "code",
   "execution_count": 21,
   "metadata": {
    "scrolled": true
   },
   "outputs": [
    {
     "name": "stdout",
     "output_type": "stream",
     "text": [
      "shape of x (50,)\n",
      "shape of y (50,)\n"
     ]
    }
   ],
   "source": [
    "# load dataset\n",
    "x, y = load_data()\n",
    "print(\"shape of x {}\".format(x.shape))\n",
    "print(\"shape of y {}\".format(y.shape))"
   ]
  },
  {
   "cell_type": "code",
   "execution_count": 22,
   "metadata": {
    "collapsed": true
   },
   "outputs": [],
   "source": [
    "def build_poly(x, degree):\n",
    "    \"\"\"polynomial basis functions for input data x, for j=0 up to j=degree.\"\"\"\n",
    "    phi_n = lambda x_n: [x_n**d for d in range(degree + 1)]\n",
    "    return np.array(list(map(phi_n, x)))"
   ]
  },
  {
   "cell_type": "markdown",
   "metadata": {},
   "source": [
    "Let us play with polynomial regression. Note that we will use your implemented function `compute_mse`. Please copy and paste your implementation from exercise02."
   ]
  },
  {
   "cell_type": "code",
   "execution_count": 23,
   "metadata": {},
   "outputs": [],
   "source": [
    "def compute_mse(y, tx, w):\n",
    "    \"\"\"Calculate the loss using mse.\"\"\"\n",
    "    n = len(y)\n",
    "    e = y - (tx @ w)\n",
    "    return (e @ e) / (2 * n)"
   ]
  },
  {
   "cell_type": "code",
   "execution_count": 24,
   "metadata": {
    "collapsed": true
   },
   "outputs": [],
   "source": [
    "from plots import *\n",
    "\n",
    "\n",
    "def polynomial_regression():\n",
    "    \"\"\"Constructing the polynomial basis function expansion of the data,\n",
    "       and then running least squares regression.\"\"\"\n",
    "    # define parameters\n",
    "    degrees = [1, 3, 7, 12]\n",
    "\n",
    "    # define the structure of the figure\n",
    "    num_row = 2\n",
    "    num_col = 2\n",
    "    f, axs = plt.subplots(num_row, num_col)\n",
    "\n",
    "    for ind, degree in enumerate(degrees):\n",
    "        # form the data to do polynomial regression\n",
    "        phi = build_poly(x, degree)\n",
    "        # least square and calculate RMSE\n",
    "        mse, weights = least_squares(y, phi)\n",
    "        rmse = np.sqrt(2 * mse)\n",
    "        print(\"Processing {i}th experiment, degree={d}, rmse={loss}\".format(\n",
    "              i=ind + 1, d=degree, loss=rmse))\n",
    "        # plot fit\n",
    "        plot_fitted_curve(\n",
    "            y, x, weights, degree, axs[ind // num_col][ind % num_col])\n",
    "    plt.tight_layout()\n",
    "    # plt.savefig(\"visualize_polynomial_regression\")\n",
    "    plt.show()"
   ]
  },
  {
   "cell_type": "markdown",
   "metadata": {},
   "source": [
    "Run polynomial regression"
   ]
  },
  {
   "cell_type": "code",
   "execution_count": 25,
   "metadata": {},
   "outputs": [
    {
     "name": "stdout",
     "output_type": "stream",
     "text": [
      "Processing 1th experiment, degree=1, rmse=0.4718760796342188\n",
      "Processing 2th experiment, degree=3, rmse=0.258582776677375\n",
      "Processing 3th experiment, degree=7, rmse=0.24965870360907347\n",
      "Processing 4th experiment, degree=12, rmse=0.24337224835787005\n"
     ]
    },
    {
     "data": {
      "image/png": "[encoded data removed]",
      "text/plain": [
       "<Figure size 432x288 with 4 Axes>"
      ]
     },
     "metadata": {
      "needs_background": "light"
     },
     "output_type": "display_data"
    }
   ],
   "source": [
    "polynomial_regression()"
   ]
  },
  {
   "cell_type": "markdown",
   "metadata": {},
   "source": [
    "# 2 Evaluating model predication performance\n",
    "\n",
    "\n",
    "Let us show the train and test splits for various polynomial degrees. First of all, please fill in the function `split_data()`"
   ]
  },
  {
   "cell_type": "code",
   "execution_count": 26,
   "metadata": {
    "collapsed": true
   },
   "outputs": [],
   "source": [
    "def split_data(x, y, ratio, seed=1):\n",
    "    \"\"\"\n",
    "    split the dataset based on the split ratio. If ratio is 0.8 \n",
    "    you will have 80% of your data set dedicated to training \n",
    "    and the rest dedicated to testing\n",
    "    \"\"\"\n",
    "    # set seed\n",
    "    np.random.seed(seed)\n",
    "    # split the data based on the given ratio\n",
    "    n = x.shape[0]\n",
    "    split_idx = int(n * ratio)\n",
    "    indices = np.random.permutation(n)\n",
    "    training_idx, test_idx = indices[:split_idx], indices[split_idx:]\n",
    "    training_x, test_x = x[training_idx], x[test_idx]\n",
    "    training_y, test_y = y[training_idx], y[test_idx]\n",
    "    return training_x, test_x, training_y, test_y"
   ]
  },
  {
   "cell_type": "markdown",
   "metadata": {},
   "source": [
    "Then, test your `split_data` function below."
   ]
  },
  {
   "cell_type": "code",
   "execution_count": 27,
   "metadata": {
    "collapsed": true
   },
   "outputs": [],
   "source": [
    "def train_test_split_demo(x, y, degree, ratio, seed):\n",
    "    \"\"\"polynomial regression with different split ratios and different degrees.\"\"\"\n",
    "    # split the data, and return train and test data\n",
    "    x_tr, x_te, y_tr, y_te = split_data(x, y, ratio, seed)\n",
    "    # form train and test data with polynomial basis function\n",
    "    phi_tr = build_poly(x_tr, degree)\n",
    "    phi_te = build_poly(x_te, degree)\n",
    "    # calculate weight through least square\n",
    "    mse_tr, weights_tr = least_squares(y_tr, phi_tr)\n",
    "    mse_te, weights_te = least_squares(y_te, phi_te)\n",
    "    # calculate RMSE for train and test data,\n",
    "    # and store them in rmse_tr and rmse_te respectively\n",
    "    rmse_tr = np.sqrt(2 * mse_tr)\n",
    "    rmse_te = np.sqrt(2 * mse_te)\n",
    "    print(\"proportion={p}, degree={d}, Training RMSE={tr:.3f}, Testing RMSE={te:.3f}\".format(\n",
    "          p=ratio, d=degree, tr=rmse_tr, te=rmse_te))\n"
   ]
  },
  {
   "cell_type": "code",
   "execution_count": 28,
   "metadata": {
    "collapsed": true
   },
   "outputs": [
    {
     "name": "stdout",
     "output_type": "stream",
     "text": [
      "proportion=0.9, degree=1, Training RMSE=0.494, Testing RMSE=0.157\n",
      "proportion=0.9, degree=3, Training RMSE=0.264, Testing RMSE=0.086\n",
      "proportion=0.9, degree=7, Training RMSE=0.254, Testing RMSE=0.000\n",
      "proportion=0.9, degree=12, Training RMSE=0.242, Testing RMSE=0.000\n",
      "proportion=0.5, degree=1, Training RMSE=0.455, Testing RMSE=0.450\n",
      "proportion=0.5, degree=3, Training RMSE=0.239, Testing RMSE=0.255\n",
      "proportion=0.5, degree=7, Training RMSE=0.232, Testing RMSE=0.247\n",
      "proportion=0.5, degree=12, Training RMSE=0.205, Testing RMSE=0.228\n",
      "proportion=0.1, degree=1, Training RMSE=0.428, Testing RMSE=0.468\n",
      "proportion=0.1, degree=3, Training RMSE=0.085, Testing RMSE=0.251\n",
      "proportion=0.1, degree=7, Training RMSE=0.000, Testing RMSE=0.247\n",
      "proportion=0.1, degree=12, Training RMSE=0.000, Testing RMSE=0.234\n"
     ]
    }
   ],
   "source": [
    "seed = 6\n",
    "degrees = [1, 3, 7, 12]\n",
    "split_ratios = [0.9, 0.5, 0.1]\n",
    "\n",
    "for split_ratio in split_ratios:\n",
    "    for degree in degrees:\n",
    "        train_test_split_demo(x, y, degree, split_ratio, seed)"
   ]
  },
  {
   "cell_type": "markdown",
   "metadata": {},
   "source": [
    "# 3 Ridge Regression\n",
    "Please fill in the function below."
   ]
  },
  {
   "cell_type": "code",
   "execution_count": 29,
   "metadata": {
    "collapsed": true
   },
   "outputs": [],
   "source": [
    "def ridge_regression(y, tx, lambda_):\n",
    "    \"\"\"implement ridge regression.\"\"\"\n",
    "    n, m = tx.shape\n",
    "    w_star = np.linalg.solve((tx.T @ tx) + lambda_ * np.eye(m), tx.T @ y)\n",
    "    e = y - (tx @ w_star)\n",
    "    loss_star = (e.T @ e) / (2 * m)\n",
    "    return loss_star, w_star"
   ]
  },
  {
   "cell_type": "code",
   "execution_count": 30,
   "metadata": {},
   "outputs": [],
   "source": [
    "from helpers import *\n",
    "\n",
    "\n",
    "def test_ridge_regression(lambda_=0):\n",
    "    height, weight, gender = load_data_from_ex02(sub_sample=False, add_outlier=False)\n",
    "    x, mean_x, std_x = standardize(height)\n",
    "    y, tx = build_model_data(x, weight)\n",
    "\n",
    "    # Ridge regression\n",
    "    loss_star_ls, w_star_ls = ridge_regression(y, tx, lambda_)\n",
    "    w0_star_ls, w1_star_ls = w_star_ls\n",
    "\n",
    "    # Show ridge regression results\n",
    "    print(f'Ridge Regression: loss*={loss_star_ls}, w0*={w0_star_ls}, w1*={w1_star_ls}')\n",
    "\n",
    "    # Least squares\n",
    "    loss_star_ls, w_star_ls = least_squares(y, tx)\n",
    "    w0_star_ls, w1_star_ls = w_star_ls\n",
    "\n",
    "    # Show least squares results\n",
    "    print(f'Least Squares: loss*={loss_star_ls}, w0*={w0_star_ls}, w1*={w1_star_ls}')"
   ]
  },
  {
   "cell_type": "code",
   "execution_count": 31,
   "metadata": {},
   "outputs": [
    {
     "name": "stdout",
     "output_type": "stream",
     "text": [
      "Ridge Regression: loss*=76929.43934414697, w0*=73.29392200210518, w1*=13.479712434989061\n",
      "Least Squares: loss*=15.385887868829395, w0*=73.29392200210518, w1*=13.479712434989061\n"
     ]
    }
   ],
   "source": [
    "test_ridge_regression(0)"
   ]
  },
  {
   "cell_type": "code",
   "execution_count": 32,
   "metadata": {
    "collapsed": true
   },
   "outputs": [],
   "source": [
    "def ridge_regression_demo(x, y, degree, ratio, seed):\n",
    "    \"\"\"ridge regression demo.\"\"\"\n",
    "    # define parameter\n",
    "    lambdas = np.logspace(-5, 0, 15)\n",
    "    # split the data, and return train and test data\n",
    "    x_tr, x_te, y_tr, y_te = split_data(x, y, ratio, seed)\n",
    "    # form train and test data with polynomial basis function\n",
    "    phi_tr = build_poly(x_tr, degree)\n",
    "    phi_te = build_poly(x_te, degree)\n",
    "\n",
    "    rmse_tr = []\n",
    "    rmse_te = []\n",
    "    for ind, lambda_ in enumerate(lambdas):\n",
    "        # ridge regression with a given lambda\n",
    "        mse_tr, weights_tr = ridge_regression(y_tr, phi_tr, lambda_)\n",
    "        mse_te, weights_te = ridge_regression(y_te, phi_te, lambda_)\n",
    "        # calculate RMSE for train and test data,\n",
    "        # and store them in rmse_tr and rmse_te respectively\n",
    "        rmse_tr.append(np.sqrt(2 * mse_tr))\n",
    "        rmse_te.append(np.sqrt(2 * mse_te))\n",
    "        print(\"proportion={p}, degree={d}, lambda={l:.3f}, Training RMSE={tr:.3f}, Testing RMSE={te:.3f}\".format(\n",
    "               p=ratio, d=degree, l=lambda_, tr=rmse_tr[ind], te=rmse_te[ind]))\n",
    "\n",
    "    # Plot the obtained results\n",
    "    plot_train_test(rmse_tr, rmse_te, lambdas, degree)"
   ]
  },
  {
   "cell_type": "code",
   "execution_count": 33,
   "metadata": {
    "collapsed": true
   },
   "outputs": [
    {
     "name": "stdout",
     "output_type": "stream",
     "text": [
      "proportion=0.5, degree=7, lambda=0.000, Training RMSE=0.402, Testing RMSE=0.397\n",
      "proportion=0.5, degree=7, lambda=0.000, Training RMSE=0.402, Testing RMSE=0.397\n",
      "proportion=0.5, degree=7, lambda=0.000, Training RMSE=0.402, Testing RMSE=0.397\n",
      "proportion=0.5, degree=7, lambda=0.000, Training RMSE=0.402, Testing RMSE=0.397\n",
      "proportion=0.5, degree=7, lambda=0.000, Training RMSE=0.402, Testing RMSE=0.398\n",
      "proportion=0.5, degree=7, lambda=0.001, Training RMSE=0.402, Testing RMSE=0.398\n",
      "proportion=0.5, degree=7, lambda=0.001, Training RMSE=0.402, Testing RMSE=0.399\n",
      "proportion=0.5, degree=7, lambda=0.003, Training RMSE=0.402, Testing RMSE=0.400\n",
      "proportion=0.5, degree=7, lambda=0.007, Training RMSE=0.402, Testing RMSE=0.401\n",
      "proportion=0.5, degree=7, lambda=0.016, Training RMSE=0.403, Testing RMSE=0.402\n",
      "proportion=0.5, degree=7, lambda=0.037, Training RMSE=0.404, Testing RMSE=0.403\n",
      "proportion=0.5, degree=7, lambda=0.085, Training RMSE=0.406, Testing RMSE=0.403\n",
      "proportion=0.5, degree=7, lambda=0.193, Training RMSE=0.408, Testing RMSE=0.403\n",
      "proportion=0.5, degree=7, lambda=0.439, Training RMSE=0.412, Testing RMSE=0.404\n",
      "proportion=0.5, degree=7, lambda=1.000, Training RMSE=0.421, Testing RMSE=0.406\n"
     ]
    },
    {
     "data": {
      "image/png": "[encoded data removed]",
      "text/plain": [
       "<Figure size 432x288 with 1 Axes>"
      ]
     },
     "metadata": {
      "needs_background": "light"
     },
     "output_type": "display_data"
    }
   ],
   "source": [
    "seed = 56\n",
    "degree = 7\n",
    "split_ratio = 0.5\n",
    "ridge_regression_demo(x, y, degree, split_ratio, seed)"
   ]
  }
 ],
 "metadata": {
  "anaconda-cloud": {},
  "interpreter": {
   "hash": "04b070aee73c3ac0910d671849acd169bf93b44e5dce212ca953a9221b27936c"
  },
  "kernelspec": {
   "display_name": "Python 3.8.10 64-bit ('env': venv)",
   "name": "python3"
  },
  "language_info": {
   "codemirror_mode": {
    "name": "ipython",
    "version": 3
   },
   "file_extension": ".py",
   "mimetype": "text/x-python",
   "name": "python",
   "nbconvert_exporter": "python",
   "pygments_lexer": "ipython3",
   "version": "3.8.10"
  }
 },
 "nbformat": 4,
 "nbformat_minor": 1
}
