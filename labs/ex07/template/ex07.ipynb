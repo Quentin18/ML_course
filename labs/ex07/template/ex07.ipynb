{
 "cells": [
  {
   "cell_type": "code",
   "execution_count": 1,
   "metadata": {},
   "outputs": [],
   "source": [
    "# Useful starting lines\n",
    "import random\n",
    "\n",
    "import numpy as np\n",
    "\n",
    "from test_utils import test\n",
    "\n",
    "%matplotlib inline\n",
    "%load_ext autoreload\n",
    "%autoreload 2"
   ]
  },
  {
   "cell_type": "markdown",
   "metadata": {},
   "source": [
    "# Support Vector Machines\n",
    "## Classification Using SVM\n",
    "Load dataset. We will use a toy dataset from sklearn."
   ]
  },
  {
   "cell_type": "code",
   "execution_count": 2,
   "metadata": {},
   "outputs": [
    {
     "name": "stdout",
     "output_type": "stream",
     "text": [
      "(N, D) = (569, 31)\n"
     ]
    }
   ],
   "source": [
    "from sklearn import datasets\n",
    "\n",
    "# Load dataset\n",
    "sklearn_dataset = datasets.load_breast_cancer()\n",
    "Xx  = sklearn_dataset.data\n",
    "y = sklearn_dataset.target * 2 - 1    # labels must be in {-1, 1} for the hinge loss\n",
    "X = np.ones((Xx.shape[0], Xx.shape[1] + 1))\n",
    "X[:, :-1] = Xx\n",
    "print('(N, D) =', X.shape)"
   ]
  },
  {
   "cell_type": "markdown",
   "metadata": {},
   "source": [
    "## Prepare cost and prediction functions"
   ]
  },
  {
   "cell_type": "code",
   "execution_count": 3,
   "metadata": {},
   "outputs": [],
   "source": [
    "def hinge_loss(z):\n",
    "    return np.clip(1 - z, 0, np.inf)\n",
    "\n",
    "\n",
    "def calculate_primal_objective(y, X, w, lambda_):\n",
    "    \"\"\"Compute the full cost (the primal objective,\n",
    "    equation (1) in the exercise pdf), that is loss plus regularizer.\n",
    "\n",
    "    Args:\n",
    "        X: the full dataset matrix, shape = (num_examples, num_features)\n",
    "        y: the corresponding +1 or -1 labels, shape = (num_examples)\n",
    "        w: shape = (num_features)\n",
    "\n",
    "    Returns:\n",
    "        scalar, non-negative\n",
    "\n",
    "    >>> y_test = np.array([1, -1])\n",
    "    >>> x_test = np.array([[1, 2, 3], [4, 5, 6]])\n",
    "    >>> w_test = np.array([0, 1, 5])\n",
    "    >>> calculate_primal_objective(y_test, x_test, w_test, 1)\n",
    "    49.0\n",
    "    \"\"\"\n",
    "    return np.sum(hinge_loss(y * (X @ w))) + lambda_ * np.linalg.norm(w)**2 / 2"
   ]
  },
  {
   "cell_type": "code",
   "execution_count": 4,
   "metadata": {},
   "outputs": [
    {
     "name": "stdout",
     "output_type": "stream",
     "text": [
      "✅ Your `calculate_primal_objective` passed 4 tests.\n"
     ]
    }
   ],
   "source": [
    "test(calculate_primal_objective)"
   ]
  },
  {
   "cell_type": "code",
   "execution_count": 5,
   "metadata": {},
   "outputs": [],
   "source": [
    "def calculate_accuracy(y, X, w):\n",
    "    \"\"\"Compute the accuracy on the given dataset (X, y) using the model w.\n",
    "\n",
    "    Args:\n",
    "        X: the full dataset matrix, shape = (num_examples, num_features)\n",
    "        y: the corresponding +1 or -1 labels, shape = (num_examples)\n",
    "        w: shape = (num_features)\n",
    "\n",
    "    Returns:\n",
    "        scalar, between 0 and 1\n",
    "\n",
    "    >>> y_test = np.array([1, -1])\n",
    "    >>> x_test = np.array([[1, 2, 3], [4, 5, 6]])\n",
    "    >>> w_test = np.array([0, 1, 5])\n",
    "    >>> calculate_accuracy(y_test, x_test, w_test)\n",
    "    0.5\n",
    "    \"\"\"\n",
    "    y_pred = (X @ w > 0) * 2 - 1\n",
    "    return np.mean(y_pred == y)"
   ]
  },
  {
   "cell_type": "code",
   "execution_count": 6,
   "metadata": {
    "scrolled": true
   },
   "outputs": [
    {
     "name": "stdout",
     "output_type": "stream",
     "text": [
      "✅ Your `calculate_accuracy` passed 4 tests.\n"
     ]
    }
   ],
   "source": [
    "test(calculate_accuracy)"
   ]
  },
  {
   "cell_type": "markdown",
   "metadata": {},
   "source": [
    "## Stochastic Gradient Descent for SVM"
   ]
  },
  {
   "cell_type": "markdown",
   "metadata": {},
   "source": [
    "Compute the (stochastic) subgradient for the n-th summand of the SVM optimization objective"
   ]
  },
  {
   "cell_type": "markdown",
   "metadata": {},
   "source": [
    "Subgradient:\n",
    "$$\n",
    "N\\cdot \\nabla \\ell\\left(y_nx_n^Tw\\right) + \\lambda w\n",
    "$$\n",
    "\n",
    "Where:\n",
    "$$\n",
    "\\nabla \\ell\\left(y_nx_n^Tw\\right) =\n",
    "\\begin{cases}\n",
    "-y_nx_n &\\quad 1-y_nx_n^Tw > 0\\\\\n",
    "0 &\\quad \\text{otherwise}\n",
    "\\end{cases}\n",
    "$$"
   ]
  },
  {
   "cell_type": "code",
   "execution_count": 7,
   "metadata": {},
   "outputs": [],
   "source": [
    "def hinge_loss_subgradient(y, X, w):\n",
    "    if y * (X @ w) < 1:\n",
    "        return -y * X.T\n",
    "    return np.zeros(w.size)\n",
    "\n",
    "\n",
    "def calculate_stochastic_gradient(y, X, w, lambda_, n, num_examples):\n",
    "    \"\"\"Compute the stochastic gradient of loss plus regularizer.\n",
    "\n",
    "    Args:\n",
    "        X: the dataset matrix, shape = (num_examples, num_features)\n",
    "        y: the corresponding +1 or -1 labels, shape = (num_examples)\n",
    "        w: shape = (num_features)\n",
    "        lambda_: positive scalar number\n",
    "        n: the index of the (one) datapoint we have sampled\n",
    "        num_examples: N\n",
    "\n",
    "    Returns:\n",
    "        numpy array, shape = (num_features)\n",
    "\n",
    "    >>> y_test = np.array([1, -1])\n",
    "    >>> x_test = np.array([[1, 2, 3], [4, 5, 6]])\n",
    "    >>> w_test = np.array([0, 1, 5])\n",
    "    >>> calculate_stochastic_gradient(y_test, x_test, w_test, 1, 1, 2)\n",
    "    array([ 8, 11, 17])\n",
    "    \"\"\"\n",
    "    # Be careful about the constant N (size) term!\n",
    "    # The complete objective for SVM is a sum,\n",
    "    # not an average as in earlier SGD examples!\n",
    "    x_n, y_n = X[n], y[n]\n",
    "    return num_examples * hinge_loss_subgradient(y_n, x_n, w) \\\n",
    "        + lambda_ * w"
   ]
  },
  {
   "cell_type": "code",
   "execution_count": 8,
   "metadata": {},
   "outputs": [
    {
     "name": "stdout",
     "output_type": "stream",
     "text": [
      "✅ Your `calculate_stochastic_gradient` passed 4 tests.\n"
     ]
    }
   ],
   "source": [
    "test(calculate_stochastic_gradient)"
   ]
  },
  {
   "cell_type": "markdown",
   "metadata": {},
   "source": [
    "Implement stochastic gradient descent: Pick a data point uniformly at random and update w based on the gradient for the n-th summand of the objective"
   ]
  },
  {
   "cell_type": "code",
   "execution_count": 9,
   "metadata": {},
   "outputs": [
    {
     "name": "stdout",
     "output_type": "stream",
     "text": [
      "iteration=0, cost=44625835.47062729\n",
      "iteration=20000, cost=350.30504875566817\n",
      "iteration=40000, cost=151.6143938893121\n",
      "iteration=60000, cost=134.46370257773302\n",
      "iteration=80000, cost=134.74643398322925\n",
      "iteration=100000, cost=129.95422695895286\n",
      "iteration=120000, cost=141.05390287289418\n",
      "iteration=140000, cost=162.48913686131675\n",
      "iteration=160000, cost=124.84490658271864\n",
      "iteration=180000, cost=125.59041521187663\n",
      "training accuracy = 0.9050966608084359\n"
     ]
    }
   ],
   "source": [
    "def sgd_for_svm_demo(y, X):\n",
    "    max_iter = 2 * int(1e5)\n",
    "    gamma = 1e-4\n",
    "    lambda_ = int(1e4)\n",
    "    # big because scales with N due to the formulation of the problem\n",
    "    # (not an averaged loss)\n",
    "\n",
    "    num_examples, num_features = X.shape\n",
    "    w = np.zeros(num_features)\n",
    "\n",
    "    for it in range(max_iter):\n",
    "        # n = sample one data point uniformly at random data from x\n",
    "        n = random.randint(0, num_examples - 1)\n",
    "\n",
    "        grad = calculate_stochastic_gradient(y, X, w, lambda_, n, num_examples)\n",
    "        w -= gamma / (it + 1) * grad\n",
    "\n",
    "        if it % 20000 == 0:\n",
    "            cost = calculate_primal_objective(y, X, w, lambda_)\n",
    "            print(f'iteration={it}, cost={cost}')\n",
    "\n",
    "    print('training accuracy =', calculate_accuracy(y, X, w))\n",
    "\n",
    "\n",
    "sgd_for_svm_demo(y, X)"
   ]
  },
  {
   "cell_type": "markdown",
   "metadata": {},
   "source": [
    "## Coordinate Descent (Ascent) for SVM"
   ]
  },
  {
   "cell_type": "markdown",
   "metadata": {},
   "source": [
    "Compute the closed-form update for the n-th variable alpha, in the dual optimization problem, given alpha and the current corresponding w"
   ]
  },
  {
   "cell_type": "code",
   "execution_count": 10,
   "metadata": {},
   "outputs": [],
   "source": [
    "def calculate_coordinate_update(y, X, lambda_, alpha, w, n):\n",
    "    \"\"\"Compute a coordinate update (closed form) for coordinate n.\n",
    "\n",
    "    Args:\n",
    "        y: the corresponding +1 or -1 labels, shape = (num_examples)\n",
    "        X: the dataset matrix, shape = (num_examples, num_features)\n",
    "        lambda_: positive scalar number\n",
    "        alpha: vector of dual coordinates, shape = (num_examples)\n",
    "        w: vector of primal parameters, shape = (num_features)\n",
    "        n: the coordinate to be updated\n",
    "\n",
    "    Returns:\n",
    "        w: updated vector of primal parameters, shape = (num_features)\n",
    "        alpha: updated vector of dual parameters, shape = (num_examples)\n",
    "\n",
    "    >>> y_test = np.array([1, -1])\n",
    "    >>> x_test = np.array([[1., 2., 3.], [4., 5., 6.]])\n",
    "    >>> w_test = np.array([-0.3, -0.3, -0.3])\n",
    "    >>> alpha_test = np.array([.1, .1])\n",
    "    >>> calculate_coordinate_update(y_test, x_test, 1, alpha_test, w_test, 0)\n",
    "    (array([-0.1,  0.1,  0.3]), array([0.3, 0.1]))\n",
    "    \"\"\"        \n",
    "    # calculate the update of coordinate at index=n.\n",
    "    x_n, y_n = X[n], y[n]\n",
    "    old_alpha_n = np.copy(alpha[n])\n",
    "\n",
    "    g = 1 - y_n * x_n @ w\n",
    "\n",
    "    if g != 0:\n",
    "        alpha[n] = min(max(old_alpha_n + lambda_ * g / (x_n.T.dot(x_n)), 0), 1)\n",
    "\n",
    "        # compute the corresponding update on the primal vector w\n",
    "        w += 1 / lambda_ * (alpha[n] - old_alpha_n) * y_n * x_n\n",
    "    return w, alpha"
   ]
  },
  {
   "cell_type": "code",
   "execution_count": 11,
   "metadata": {
    "scrolled": false
   },
   "outputs": [
    {
     "name": "stdout",
     "output_type": "stream",
     "text": [
      "✅ Your `calculate_coordinate_update` passed 5 tests.\n"
     ]
    }
   ],
   "source": [
    "test(calculate_coordinate_update)"
   ]
  },
  {
   "cell_type": "code",
   "execution_count": 12,
   "metadata": {},
   "outputs": [],
   "source": [
    "def calculate_dual_objective(y, X, w, alpha, lambda_):\n",
    "    \"\"\"Calculate the objective for the dual problem.\n",
    "\n",
    "    Args:\n",
    "        y: the corresponding +1 or -1 labels, shape = (num_examples)\n",
    "        X: the dataset matrix, shape = (num_examples, num_features)\n",
    "        w: vector of primal parameters, shape = (num_features)\n",
    "        alpha: vector of dual coordinates, shape = (num_examples)\n",
    "        lambda_: non negative scalar number\n",
    "\n",
    "    Output:\n",
    "        scalar\n",
    "\n",
    "    >>> y_test = np.array([1, -1])\n",
    "    >>> x_test = np.array([[1., 2., 3.], [4., 5., 6.]])\n",
    "    >>> w_test = np.array([-0.3, -0.3, -0.3])\n",
    "    >>> alpha_test = np.array([.1, .1])\n",
    "    >>> calculate_dual_objective(y_test, x_test, w_test, alpha_test, 1)\n",
    "    0.065\n",
    "    \"\"\"\n",
    "    return np.sum(alpha) - lambda_ / 2 * np.sum(w**2)"
   ]
  },
  {
   "cell_type": "code",
   "execution_count": 13,
   "metadata": {},
   "outputs": [
    {
     "name": "stdout",
     "output_type": "stream",
     "text": [
      "✅ Your `calculate_dual_objective` passed 5 tests.\n"
     ]
    }
   ],
   "source": [
    "test(calculate_dual_objective)"
   ]
  },
  {
   "cell_type": "code",
   "execution_count": 14,
   "metadata": {
    "scrolled": true
   },
   "outputs": [
    {
     "name": "stdout",
     "output_type": "stream",
     "text": [
      "iteration=0, primal:542.45050, dual:0.00175, gap:542.44875\n",
      "iteration=20000, primal:211.41002, dual:56.82772, gap:154.58230\n",
      "iteration=40000, primal:160.44451, dual:88.62388, gap:71.82063\n",
      "iteration=60000, primal:127.62954, dual:103.75866, gap:23.87087\n",
      "iteration=80000, primal:124.37902, dual:111.49870, gap:12.88032\n",
      "iteration=100000, primal:129.15442, dual:115.58985, gap:13.56457\n",
      "iteration=120000, primal:123.72520, dual:117.91847, gap:5.80673\n",
      "iteration=140000, primal:123.01412, dual:119.51606, gap:3.49807\n",
      "iteration=160000, primal:122.59203, dual:120.59775, gap:1.99428\n",
      "iteration=180000, primal:123.94790, dual:121.06935, gap:2.87854\n",
      "training accuracy = 0.9244288224956063\n"
     ]
    }
   ],
   "source": [
    "# Notice that the gap is going to 0\n",
    "def coordinate_descent_for_svm_demo(y, X):\n",
    "    max_iter = 2 * int(1e5)\n",
    "    lambda_ = int(1e4)\n",
    "\n",
    "    num_examples, num_features = X.shape\n",
    "    w = np.zeros(num_features)\n",
    "    alpha = np.zeros(num_examples)\n",
    "\n",
    "    for it in range(max_iter):\n",
    "        # n = sample one data point uniformly at random data from x\n",
    "        n = random.randint(0, num_examples - 1)\n",
    "\n",
    "        w, alpha = calculate_coordinate_update(y, X, lambda_, alpha, w, n)\n",
    "\n",
    "        if it % 20000 == 0:\n",
    "            # primal objective\n",
    "            primal_value = calculate_primal_objective(y, X, w, lambda_)\n",
    "            # dual objective\n",
    "            dual_value = calculate_dual_objective(y, X, w, alpha, lambda_)\n",
    "            # primal dual gap\n",
    "            duality_gap = primal_value - dual_value\n",
    "            print('iteration=%i, primal:%.5f, dual:%.5f, gap:%.5f' % (\n",
    "                    it, primal_value, dual_value, duality_gap))\n",
    "    print('training accuracy =', calculate_accuracy(y, X, w))\n",
    "\n",
    "coordinate_descent_for_svm_demo(y, X)"
   ]
  }
 ],
 "metadata": {
  "anaconda-cloud": {},
  "interpreter": {
   "hash": "916dbcbb3f70747c44a77c7bcd40155683ae19c65e1c03b4aa3499c5328201f1"
  },
  "kernelspec": {
   "display_name": "Python 3.8.10 64-bit",
   "name": "python3"
  },
  "language_info": {
   "codemirror_mode": {
    "name": "ipython",
    "version": 3
   },
   "file_extension": ".py",
   "mimetype": "text/x-python",
   "name": "python",
   "nbconvert_exporter": "python",
   "pygments_lexer": "ipython3",
   "version": "3.8.10"
  }
 },
 "nbformat": 4,
 "nbformat_minor": 4
}
